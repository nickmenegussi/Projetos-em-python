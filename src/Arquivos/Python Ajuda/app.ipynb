{
 "cells": [
  {
   "cell_type": "markdown",
   "metadata": {},
   "source": [
    "##  Aula 01  \n",
    "### Tipos de Dados \n",
    "   - Variavéis\n",
    "   - Inteiro/int\n",
    "   - Float/float\n",
    "   - String/str"
   ]
  },
  {
   "cell_type": "code",
   "execution_count": 34,
   "metadata": {},
   "outputs": [
    {
     "name": "stdout",
     "output_type": "stream",
     "text": [
      "<class 'str'>\n",
      "l\n",
      "42\n",
      "carlos                                    \n",
      "carlos                                    \n",
      "CARLOS                                    \n",
      "6\n",
      "['Maça', 'bergamota', 'banana']\n",
      "Maça, bergamota, banana\n",
      "listas de frutas:  ['Maça,', 'Banana,', 'Bergamota']\n"
     ]
    }
   ],
   "source": [
    "# Variavéis \n",
    "nome = \"carlos                                    \"\n",
    "print(type(nome))\n",
    "\n",
    "# Manipulação de strings\n",
    "print(nome[3:4])\n",
    "# Análise de Strings\n",
    "print(len(nome))\n",
    "\n",
    "# Transformações de Strings e dividindo e juntando strings\n",
    "    # lower e uppercase\n",
    "print(nome)\n",
    "print(nome.lower())\n",
    "print(nome.upper())\n",
    "    # strip\n",
    "texto_sem_espaço = nome.strip()\n",
    "print(len(texto_sem_espaço))\n",
    "\n",
    "    # split e join\n",
    "frutas = [\"Maça\", \"bergamota\", \"banana\"]\n",
    "texto = \", \".join(frutas)\n",
    "print(frutas)\n",
    "print(texto)\n",
    "\n",
    "frutas2 = \"Maça, Banana, Bergamota\"\n",
    "funcao = frutas2.split()\n",
    "print(\"listas de frutas: \", funcao)\n",
    "    # replace\n",
    "    # find\n"
   ]
  },
  {
   "cell_type": "code",
   "execution_count": null,
   "metadata": {},
   "outputs": [],
   "source": []
  },
  {
   "cell_type": "code",
   "execution_count": null,
   "metadata": {},
   "outputs": [
    {
     "ename": "",
     "evalue": "",
     "output_type": "error",
     "traceback": [
      "\u001b[1;31mThe Kernel crashed while executing code in the the current cell or a previous cell. Please review the code in the cell(s) to identify a possible cause of the failure. Click <a href='https://aka.ms/vscodeJupyterKernelCrash'>here</a> for more info. View Jupyter <a href='command:jupyter.viewOutput'>log</a> for further details."
     ]
    }
   ],
   "source": [
    "# Inteiro\n",
    "numero1 = str(input(\"Digite um numero: \"))\n",
    "numero2 = int(input(\"Digite outro numero: \"))\n",
    "\n",
    "*\n",
    "-\n",
    "+\n",
    "/\n",
    "//\n",
    "**\n",
    "%\n",
    "\n",
    "soma = numero1 + numero1\n",
    "\n",
    "print(f\"a soma de {numero1} com {numero2} = {soma}\")"
   ]
  },
  {
   "cell_type": "code",
   "execution_count": null,
   "metadata": {},
   "outputs": [],
   "source": [
    "# Float"
   ]
  },
  {
   "cell_type": "code",
   "execution_count": null,
   "metadata": {},
   "outputs": [],
   "source": [
    "# String"
   ]
  },
  {
   "cell_type": "markdown",
   "metadata": {},
   "source": [
    "## Aula 02\n",
    "### Tipos de Dados \n",
    "   - If\n",
    "   - Elif\n",
    "   - Else\n"
   ]
  },
  {
   "cell_type": "code",
   "execution_count": null,
   "metadata": {},
   "outputs": [],
   "source": [
    "# IF else"
   ]
  },
  {
   "cell_type": "code",
   "execution_count": null,
   "metadata": {},
   "outputs": [],
   "source": [
    "# IF elif else"
   ]
  },
  {
   "cell_type": "markdown",
   "metadata": {},
   "source": [
    "## Aula 03 \n",
    "### Loops\n",
    "   - While\n",
    "   - For\n",
    "   - Operadores lógicos and or not\n",
    "   \n"
   ]
  },
  {
   "cell_type": "code",
   "execution_count": null,
   "metadata": {},
   "outputs": [],
   "source": [
    "# While"
   ]
  },
  {
   "cell_type": "code",
   "execution_count": null,
   "metadata": {},
   "outputs": [],
   "source": [
    "# For"
   ]
  }
 ],
 "metadata": {
  "kernelspec": {
   "display_name": "venv",
   "language": "python",
   "name": "python3"
  },
  "language_info": {
   "codemirror_mode": {
    "name": "ipython",
    "version": 3
   },
   "file_extension": ".py",
   "mimetype": "text/x-python",
   "name": "python",
   "nbconvert_exporter": "python",
   "pygments_lexer": "ipython3",
   "version": "3.11.2"
  },
  "orig_nbformat": 4
 },
 "nbformat": 4,
 "nbformat_minor": 2
}
